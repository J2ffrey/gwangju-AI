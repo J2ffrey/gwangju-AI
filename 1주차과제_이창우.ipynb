{
  "nbformat": 4,
  "nbformat_minor": 0,
  "metadata": {
    "colab": {
      "name": "1주차과제_이창우.ipynb",
      "provenance": []
    },
    "kernelspec": {
      "name": "python3",
      "display_name": "Python 3"
    }
  },
  "cells": [
    {
      "cell_type": "markdown",
      "metadata": {
        "id": "viWjt4OPYDIT",
        "colab_type": "text"
      },
      "source": [
        "## 01. 언어"
      ]
    },
    {
      "cell_type": "markdown",
      "metadata": {
        "id": "6paS8I_CXWyi",
        "colab_type": "text"
      },
      "source": [
        "###__제품 및 서비스: 보이스루 '자메이크' 서비스__\n",
        "  + 인공지능(AI) 스타트업 보이스루의 자메이크(사진)는 이 같은 고민을 줄여주는 서비스\n",
        "  + 자메이크 웹사이트에 영상 링크를 올리면 분당 6000원의 가격으로 24시간 안에 외국어 자막을 달아줌. \n",
        "  + 기존 번역 서비스에 비해 최대 80% 싼 가격에 서비스 제공\n",
        "  + 비용과 시간을 줄인 비결은 AI와 사람의 협업. 배경음에서 음성을 떼어내고, 자막과 싱크를 맞추는 작업은 AI가 진행 \n",
        "\n",
        "###__인공지능 기술: NMT (신경망 기계번역)__    \n",
        "  + 주의 매커니즘(Attention Mechanism)은 최근 NMT(신경망 기계번역) 의 성능을 극대화 시키는데 큰 도움\n",
        "  + 어탠션 매커니즘은 선택적으로 문장의 부분들에 더 깊은 '주의'를 기울여 해석을 도움. \n",
        "  + 영어에서 독어 해석에 있어 25.9 BLEU 포인트를 얻으며 많은 성능 향상을 가져옴.\n",
        "\n",
        "\n",
        "###__학습목표: 자동 언어 독해 학습 실행__   \n",
        "  + NMT 논문조사를 활용해 최적화된 한국어 번역 모델링 진행\n",
        "    \n",
        "  "
      ]
    },
    {
      "cell_type": "markdown",
      "metadata": {
        "id": "r8t9K3S4X9XJ",
        "colab_type": "text"
      },
      "source": [
        "## 02. 음성\n"
      ]
    },
    {
      "cell_type": "markdown",
      "metadata": {
        "id": "tSbUE_XaX-9J",
        "colab_type": "text"
      },
      "source": [
        "###__제품 및 서비스: 신한카드 AI 콜센터__\n",
        "  + AI콜센터는 기존에 모바일앱과 인터넷뱅킹에서 제공하던 챗봇 기능을 개선해 고객에 제공하는 서비스영역을 더 넓힌 인공지능 상담 시스템.\n",
        "  + 신한카드는 그동안 고객들이 상담서비스를 이용한 기록을 빅데이터 형태로 분석한 뒤 AI콜센터에 적용해 정확성과 처리속도를 더 높임\n",
        "  \n",
        "###__인공지능 기술: RNN(순환신경망)__    \n",
        "+ 기억을 갖는 신명망인 RNN 기술을 활용하여, 언어 인식 및 번역에 대해 각 산업군별 사용 중 \n",
        "+ Back Propagation을 통하여 가중치 모델에 대한 정확도 향상 \n",
        "\n",
        "\n",
        "###__학습목표: RNN을 통한 음성인식 딥러닝 모델 학습__   \n",
        "+ sequence data를 갖고 있는 음성 및 언어 raw data를 딥러닝 모델로 학습하는 프로젝트 진행\n",
        "    \n",
        "  "
      ]
    },
    {
      "cell_type": "markdown",
      "metadata": {
        "id": "3qQH68dWX_fn",
        "colab_type": "text"
      },
      "source": [
        "## 03. 이미지"
      ]
    },
    {
      "cell_type": "markdown",
      "metadata": {
        "id": "qS6_2UyCYACC",
        "colab_type": "text"
      },
      "source": [
        "###__제품 및 서비스: bepro11__\n",
        "  + 비프로일레븐은 독일 함부르크에 본사를 둔 한국 토종 축구 분석 업체. \n",
        "  + 경기장에 설치된 특수 카메라로 촬영한 경기 영상에 인공지능(AI) 기술을 접목\n",
        "  + 경기 중 일어나는 모든 상황을 판단·분석\n",
        "  + 분석된 영상과 데이터를 선수와 팀에 자동화된 방식으로 제공\n",
        "\n",
        "###__인공지능 기술: CNN 이미지 학습__    \n",
        "+ 합성곱 신경망 \n",
        "+ Covolution, pooling, activation 연산\n",
        "\n",
        "\n",
        "###__학습목표: 인공지능 신경망 CNN을 활용한 이미지 분석프로젝트 실행__   \n",
        "+ 인공지능 신경망 CNN 및 각 프로젝트별 가중치 적합 산정모델 학습진행\n",
        "    \n",
        "\n",
        "  "
      ]
    },
    {
      "cell_type": "markdown",
      "metadata": {
        "id": "GIjbLth5X-cz",
        "colab_type": "text"
      },
      "source": [
        "## 04. 자율주행"
      ]
    },
    {
      "cell_type": "markdown",
      "metadata": {
        "id": "4EKHXLHsX9s_",
        "colab_type": "text"
      },
      "source": [
        "###__제품 및 서비스: 어라운드 지(by.NAVER)__\n",
        "  + 네이버랩스는 자율주행 로봇과 차량을 위한 새로운 방식의 지도 솔루션도 개발 중. \n",
        "  + 네이버가 공개한 ‘어라운드’ 플랫폼은 자율주행 서비스 로봇의 대중화를 목표로 네이버랩스가 개발한 독자 기술. \n",
        "  + 네이버랩스는 현재 미국자동차공학회(SAE)가 매기는 자율주행차 단계 중 최고 단계 바로 아래인 레벨 4 기술 보유\n",
        "\n",
        "###__인공지능 기술: LiDAR__\n",
        "+ 고정밀 3차원 지도와 클라우드 기반 경로 탐색 알고리즘 기술\n",
        "+ 자율주행 로봇 ‘어라운드 G’가 예측하기 어려운 사람들의 움직임을 감지하고 사물을 피할 수 있음\n",
        "+ 고정밀 ‘하이브리드 HD 맵’\n",
        "\n",
        "\n",
        "###__학습목표: LiDAR application 기술 학습__\n",
        "+ LiDAR application을 활용하여 사물거리를 인식을 통한 자율주행 고도화에 대한 연구 논문 학습 \n",
        "  "
      ]
    },
    {
      "cell_type": "code",
      "metadata": {
        "id": "qCCktyXgcUgk",
        "colab_type": "code",
        "colab": {}
      },
      "source": [
        ""
      ],
      "execution_count": null,
      "outputs": []
    }
  ]
}